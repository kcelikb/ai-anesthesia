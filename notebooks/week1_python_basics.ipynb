{
 "cells": [
  {
   "cell_type": "code",
   "execution_count": null,
   "id": "727025cb-46c7-48c9-b36b-7d9758d92325",
   "metadata": {},
   "outputs": [],
   "source": [
    "# Week 1 – Python Core Logic\n",
    "\n",
    "This notebook covers core Python topics:\n",
    "- Variables and expressions\n",
    "- Conditional statements\n",
    "- Functions\n",
    "- Loops and iteration\n"
   ]
  },
  {
   "cell_type": "code",
   "execution_count": null,
   "id": "8c1a82c2-e1c5-42a2-b814-62021914c649",
   "metadata": {},
   "outputs": [],
   "source": [
    "### Reserved Words – PFEB Ch. 2 Notes\n",
    "\n",
    "Python has a small set of reserved words that cannot be used as variable names. These include `and`, `if`, `for`, `def`, `return`, etc. They form the “vocabulary” of the Python language—similar to commands in dog training.\n",
    "\n",
    "Key point: You can name your variables almost anything, but not any of these reserved words.\n",
    "\n",
    "| Common Reserved Words |\n",
    "|------------------------|\n",
    "| and, or, not           |\n",
    "| if, else, elif         |\n",
    "| for, while, break      |\n",
    "| def, return, lambda    |\n",
    "| import, from, as       |\n",
    "| class, try, except     |\n"
   ]
  },
  {
   "cell_type": "code",
   "execution_count": 5,
   "id": "5ee19ffe-02c6-40df-8f55-de1de43cad75",
   "metadata": {},
   "outputs": [
    {
     "name": "stdout",
     "output_type": "stream",
     "text": [
      "Hello world!\n"
     ]
    }
   ],
   "source": [
    "print('Hello world!')"
   ]
  },
  {
   "cell_type": "code",
   "execution_count": null,
   "id": "a6e41538-4b71-4906-a8b1-42ae50d7b7f0",
   "metadata": {},
   "outputs": [],
   "source": [
    "Variables & Expressions"
   ]
  },
  {
   "cell_type": "code",
   "execution_count": 9,
   "id": "2cd0b944-f48c-4339-b4b0-d258534fd23c",
   "metadata": {},
   "outputs": [
    {
     "name": "stdout",
     "output_type": "stream",
     "text": [
      "BMI: 25.0\n"
     ]
    }
   ],
   "source": [
    "# BMI calculation\n",
    "weight_kg = 74\n",
    "height_m = 1.72\n",
    "bmi = weight_kg / (height_m ** 2)\n",
    "print(\"BMI:\", round(bmi, 1))\n"
   ]
  },
  {
   "cell_type": "code",
   "execution_count": 12,
   "id": "da54aab4-96cd-4291-abc4-b5c3c6b4bc80",
   "metadata": {},
   "outputs": [
    {
     "name": "stdout",
     "output_type": "stream",
     "text": [
      "30\n"
     ]
    }
   ],
   "source": [
    "x=5\n",
    "y=x*x+x\n",
    "print(y)"
   ]
  },
  {
   "cell_type": "code",
   "execution_count": null,
   "id": "7cacc0bd-00af-4391-bce5-c0f3169cb3c8",
   "metadata": {},
   "outputs": [],
   "source": []
  }
 ],
 "metadata": {
  "kernelspec": {
   "display_name": "Python [conda env:clinicalAI]",
   "language": "python",
   "name": "conda-env-clinicalAI-py"
  },
  "language_info": {
   "codemirror_mode": {
    "name": "ipython",
    "version": 3
   },
   "file_extension": ".py",
   "mimetype": "text/x-python",
   "name": "python",
   "nbconvert_exporter": "python",
   "pygments_lexer": "ipython3",
   "version": "3.10.16"
  }
 },
 "nbformat": 4,
 "nbformat_minor": 5
}
