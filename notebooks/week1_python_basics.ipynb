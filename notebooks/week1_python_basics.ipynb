{
 "cells": [
  {
   "cell_type": "code",
   "execution_count": null,
   "id": "727025cb-46c7-48c9-b36b-7d9758d92325",
   "metadata": {},
   "outputs": [],
   "source": [
    "# Week 1 – Python Core Logic\n",
    "\n",
    "This notebook covers core Python topics:\n",
    "- Variables and expressions\n",
    "- Conditional statements\n",
    "- Functions\n",
    "- Loops and iteration\n"
   ]
  },
  {
   "cell_type": "code",
   "execution_count": 38,
   "id": "5ee19ffe-02c6-40df-8f55-de1de43cad75",
   "metadata": {},
   "outputs": [
    {
     "name": "stdout",
     "output_type": "stream",
     "text": [
      "Hello world!\n"
     ]
    }
   ],
   "source": [
    "print('Hello world!')"
   ]
  },
  {
   "cell_type": "code",
   "execution_count": null,
   "id": "a6e41538-4b71-4906-a8b1-42ae50d7b7f0",
   "metadata": {},
   "outputs": [],
   "source": [
    "Variables & Expressions"
   ]
  },
  {
   "cell_type": "code",
   "execution_count": 9,
   "id": "2cd0b944-f48c-4339-b4b0-d258534fd23c",
   "metadata": {},
   "outputs": [
    {
     "name": "stdout",
     "output_type": "stream",
     "text": [
      "BMI: 25.0\n"
     ]
    }
   ],
   "source": [
    "# BMI calculation\n",
    "weight_kg = 74\n",
    "height_m = 1.72\n",
    "bmi = weight_kg / (height_m ** 2)\n",
    "print(\"BMI:\", round(bmi, 1))\n"
   ]
  },
  {
   "cell_type": "code",
   "execution_count": 12,
   "id": "da54aab4-96cd-4291-abc4-b5c3c6b4bc80",
   "metadata": {},
   "outputs": [
    {
     "name": "stdout",
     "output_type": "stream",
     "text": [
      "30\n"
     ]
    }
   ],
   "source": [
    "x=5\n",
    "y=x*x+x\n",
    "print(y)"
   ]
  },
  {
   "cell_type": "code",
   "execution_count": 20,
   "id": "7cacc0bd-00af-4391-bce5-c0f3169cb3c8",
   "metadata": {},
   "outputs": [
    {
     "name": "stdout",
     "output_type": "stream",
     "text": [
      "4\n"
     ]
    }
   ],
   "source": [
    "print(4)"
   ]
  },
  {
   "cell_type": "code",
   "execution_count": 24,
   "id": "07e23fa2-92a4-4186-af5e-ad58b50dd581",
   "metadata": {},
   "outputs": [
    {
     "data": {
      "text/plain": [
       "int"
      ]
     },
     "execution_count": 24,
     "metadata": {},
     "output_type": "execute_result"
    }
   ],
   "source": [
    "type(9)"
   ]
  },
  {
   "cell_type": "code",
   "execution_count": 26,
   "id": "68f3b053-6866-4e32-af10-ca14a2a833f0",
   "metadata": {},
   "outputs": [
    {
     "data": {
      "text/plain": [
       "str"
      ]
     },
     "execution_count": 26,
     "metadata": {},
     "output_type": "execute_result"
    }
   ],
   "source": [
    "type(8)\n",
    "type('8')"
   ]
  },
  {
   "cell_type": "code",
   "execution_count": 28,
   "id": "cc203b83-0adc-4f32-bc1f-889e0b3218fb",
   "metadata": {},
   "outputs": [
    {
     "name": "stdout",
     "output_type": "stream",
     "text": [
      "1 7 96\n"
     ]
    }
   ],
   "source": [
    "print(1,7,96)"
   ]
  },
  {
   "cell_type": "code",
   "execution_count": 34,
   "id": "7dd1176a-aff7-4ea8-9c9a-a7b2571127a7",
   "metadata": {},
   "outputs": [
    {
     "name": "stdout",
     "output_type": "stream",
     "text": [
      "damn\n"
     ]
    }
   ],
   "source": [
    "message = 'damn'\n",
    "print(message)"
   ]
  },
  {
   "cell_type": "code",
   "execution_count": 49,
   "id": "4af931a7-8367-49c6-a996-5f9e58f297e3",
   "metadata": {},
   "outputs": [
    {
     "name": "stdout",
     "output_type": "stream",
     "text": [
      "top\n"
     ]
    }
   ],
   "source": [
    "x = 'top'\n",
    "print(x)"
   ]
  },
  {
   "cell_type": "code",
   "execution_count": 51,
   "id": "68977f96-583c-4e44-a805-e0162806a8dc",
   "metadata": {},
   "outputs": [
    {
     "data": {
      "text/plain": [
       "0.875"
      ]
     },
     "execution_count": 51,
     "metadata": {},
     "output_type": "execute_result"
    }
   ],
   "source": [
    "7/8"
   ]
  },
  {
   "cell_type": "code",
   "execution_count": 59,
   "id": "80a097fa-aaba-410c-afeb-7417d3c045f0",
   "metadata": {},
   "outputs": [
    {
     "data": {
      "text/plain": [
       "6"
      ]
     },
     "execution_count": 59,
     "metadata": {},
     "output_type": "execute_result"
    }
   ],
   "source": [
    "x = 5\n",
    "x+1"
   ]
  },
  {
   "cell_type": "code",
   "execution_count": 63,
   "id": "97e2e4d2-4901-4e13-b012-d8c14df28c26",
   "metadata": {},
   "outputs": [
    {
     "data": {
      "text/plain": [
       "7"
      ]
     },
     "execution_count": 63,
     "metadata": {},
     "output_type": "execute_result"
    }
   ],
   "source": [
    "55//7"
   ]
  },
  {
   "cell_type": "code",
   "execution_count": 78,
   "id": "9ebb10f3-51fd-410f-b536-8e561a11d1e8",
   "metadata": {},
   "outputs": [
    {
     "name": "stdout",
     "output_type": "stream",
     "text": [
      "1020\n"
     ]
    }
   ],
   "source": [
    "a='10'\n",
    "b='20'\n",
    "print(a+b)"
   ]
  },
  {
   "cell_type": "code",
   "execution_count": 87,
   "id": "8e590e93-c8fc-49e5-8c9b-522bb63db3ad",
   "metadata": {},
   "outputs": [
    {
     "name": "stdin",
     "output_type": "stream",
     "text": [
      "Enter your name kutay\n"
     ]
    },
    {
     "name": "stdout",
     "output_type": "stream",
     "text": [
      "welcome kutay\n"
     ]
    }
   ],
   "source": [
    "name=input('Enter your name')\n",
    "print('welcome '+name)"
   ]
  },
  {
   "cell_type": "code",
   "execution_count": 96,
   "id": "106a6927-c7d8-49f3-be00-147284fecd5e",
   "metadata": {},
   "outputs": [
    {
     "name": "stdin",
     "output_type": "stream",
     "text": [
      "Enter hours:  7.5\n",
      "Enter rate:  8.5\n"
     ]
    },
    {
     "name": "stdout",
     "output_type": "stream",
     "text": [
      "64\n"
     ]
    }
   ],
   "source": [
    "hours = float(input('Enter hours: '))\n",
    "rate = float(input('Enter rate: '))\n",
    "pay = hours * rate\n",
    "print(round(pay))"
   ]
  },
  {
   "cell_type": "code",
   "execution_count": 98,
   "id": "30dc8fcd-26d0-46ec-aab0-1f90dfa4507c",
   "metadata": {
    "scrolled": true
   },
   "outputs": [
    {
     "name": "stdin",
     "output_type": "stream",
     "text": [
      "Enter temperature in C 36.5\n"
     ]
    },
    {
     "name": "stdout",
     "output_type": "stream",
     "text": [
      "97.7\n"
     ]
    }
   ],
   "source": [
    "celsius=float(input('Enter temperature in C'))\n",
    "fahrenheit=(9*celsius/5)+32\n",
    "print(fahrenheit)"
   ]
  },
  {
   "cell_type": "code",
   "execution_count": 105,
   "id": "ddf85819-bf3a-4642-818f-3179de9fbc03",
   "metadata": {},
   "outputs": [
    {
     "name": "stdin",
     "output_type": "stream",
     "text": [
      "What is your name?\"..string.escape(\"\n",
      "\")..\" kutay\n"
     ]
    },
    {
     "name": "stdout",
     "output_type": "stream",
     "text": [
      "kutay\n"
     ]
    }
   ],
   "source": [
    "name = input('What is your name?\"..string.escape(\"\\n\")..\"')\n",
    "print(name)"
   ]
  },
  {
   "cell_type": "code",
   "execution_count": 114,
   "id": "43919b4a-2c63-463c-9d33-827b93b28094",
   "metadata": {},
   "outputs": [
    {
     "name": "stdout",
     "output_type": "stream",
     "text": [
      "wow\n"
     ]
    }
   ],
   "source": [
    "x=3*y\n",
    "y=5\n",
    "if x>10:\n",
    "    print('wow')"
   ]
  },
  {
   "cell_type": "code",
   "execution_count": 125,
   "id": "8dd83efe-d1a4-481e-8fb2-3aca4883099b",
   "metadata": {},
   "outputs": [
    {
     "name": "stdin",
     "output_type": "stream",
     "text": [
      " 8\n"
     ]
    },
    {
     "name": "stdout",
     "output_type": "stream",
     "text": [
      "huh\n"
     ]
    }
   ],
   "source": [
    "choice=input()\n",
    "if choice=='a':\n",
    "        print('yay')\n",
    "elif choice=='b':\n",
    "        print('oof')\n",
    "else:\n",
    "        print('huh')"
   ]
  },
  {
   "cell_type": "code",
   "execution_count": 142,
   "id": "548304c3-d629-4a64-92f7-4ef914feae16",
   "metadata": {},
   "outputs": [
    {
     "name": "stdin",
     "output_type": "stream",
     "text": [
      "Enter hours:  k\n"
     ]
    },
    {
     "name": "stdout",
     "output_type": "stream",
     "text": [
      "Please enter a number\n"
     ]
    }
   ],
   "source": [
    "try:\n",
    "    hours = float(input('Enter hours: '))\n",
    "    rate = float(input('Enter rate: '))\n",
    "\n",
    "    if hours>40:\n",
    "        pay = (hours * rate) + (hours-40)*rate/2\n",
    "    else:   \n",
    "        pay = hours * rate_n\n",
    "\n",
    "    print(pay)\n",
    "\n",
    "except:\n",
    "    print('Please enter a number')"
   ]
  },
  {
   "cell_type": "code",
   "execution_count": 147,
   "id": "ed1ba843-fc7a-42c4-be44-2f72bed89f89",
   "metadata": {},
   "outputs": [],
   "source": [
    "import math"
   ]
  },
  {
   "cell_type": "code",
   "execution_count": 151,
   "id": "482f6845-fd6b-4c20-a1c1-e0ce57c0c5d0",
   "metadata": {},
   "outputs": [
    {
     "name": "stdout",
     "output_type": "stream",
     "text": [
      "<module 'math' (built-in)>\n"
     ]
    }
   ],
   "source": [
    "print(math)"
   ]
  },
  {
   "cell_type": "code",
   "execution_count": 155,
   "id": "576cfe26-1764-4236-ad88-2aad749b77bf",
   "metadata": {},
   "outputs": [
    {
     "name": "stdout",
     "output_type": "stream",
     "text": [
      "3.141592653589793\n"
     ]
    }
   ],
   "source": [
    "print(math.pi)"
   ]
  },
  {
   "cell_type": "code",
   "execution_count": 159,
   "id": "fad27829-b9a5-425b-b603-ab345f458f29",
   "metadata": {},
   "outputs": [
    {
     "name": "stdout",
     "output_type": "stream",
     "text": [
      "2.718281828459045\n"
     ]
    }
   ],
   "source": [
    "print(math.e)"
   ]
  },
  {
   "cell_type": "code",
   "execution_count": 163,
   "id": "43210df7-2f31-4c1e-8c58-3afb672bb883",
   "metadata": {},
   "outputs": [
    {
     "ename": "ValueError",
     "evalue": "math domain error",
     "output_type": "error",
     "traceback": [
      "\u001b[1;31m---------------------------------------------------------------------------\u001b[0m",
      "\u001b[1;31mValueError\u001b[0m                                Traceback (most recent call last)",
      "Cell \u001b[1;32mIn[163], line 1\u001b[0m\n\u001b[1;32m----> 1\u001b[0m i\u001b[38;5;241m=\u001b[39m\u001b[43mmath\u001b[49m\u001b[38;5;241;43m.\u001b[39;49m\u001b[43msqrt\u001b[49m\u001b[43m(\u001b[49m\u001b[38;5;241;43m-\u001b[39;49m\u001b[38;5;241;43m1\u001b[39;49m\u001b[43m)\u001b[49m\n",
      "\u001b[1;31mValueError\u001b[0m: math domain error"
     ]
    }
   ],
   "source": [
    "i=math.sqrt(-1)"
   ]
  },
  {
   "cell_type": "code",
   "execution_count": 165,
   "id": "fc3bb769-1c1a-47fd-9e03-adaea98d4387",
   "metadata": {},
   "outputs": [],
   "source": [
    "import cmath"
   ]
  },
  {
   "cell_type": "code",
   "execution_count": 181,
   "id": "ea7746da-02e0-4448-841c-80aa5f3b495c",
   "metadata": {},
   "outputs": [
    {
     "ename": "TypeError",
     "evalue": "float() argument must be a string or a real number, not 'complex'",
     "output_type": "error",
     "traceback": [
      "\u001b[1;31m---------------------------------------------------------------------------\u001b[0m",
      "\u001b[1;31mTypeError\u001b[0m                                 Traceback (most recent call last)",
      "Cell \u001b[1;32mIn[181], line 5\u001b[0m\n\u001b[0;32m      1\u001b[0m i\u001b[38;5;241m=\u001b[39mcmath\u001b[38;5;241m.\u001b[39msqrt(\u001b[38;5;241m-\u001b[39m\u001b[38;5;241m1\u001b[39m)\n\u001b[0;32m      3\u001b[0m x\u001b[38;5;241m=\u001b[39mmath\u001b[38;5;241m.\u001b[39me\u001b[38;5;241m*\u001b[39m\u001b[38;5;241m*\u001b[39m(i\u001b[38;5;241m*\u001b[39mmath\u001b[38;5;241m.\u001b[39mpi)\n\u001b[1;32m----> 5\u001b[0m \u001b[38;5;28mprint\u001b[39m(\u001b[38;5;28;43mfloat\u001b[39;49m\u001b[43m(\u001b[49m\u001b[43mx\u001b[49m\u001b[43m)\u001b[49m)\n",
      "\u001b[1;31mTypeError\u001b[0m: float() argument must be a string or a real number, not 'complex'"
     ]
    }
   ],
   "source": [
    "i=cmath.sqrt(-1)\n",
    "\n",
    "x=math.e**(i*math.pi)\n",
    "\n",
    "print(float(x))"
   ]
  },
  {
   "cell_type": "code",
   "execution_count": null,
   "id": "15b12a47-8357-4b9e-a35a-61b2122c0ce7",
   "metadata": {},
   "outputs": [],
   "source": []
  }
 ],
 "metadata": {
  "kernelspec": {
   "display_name": "Python [conda env:clinicalAI]",
   "language": "python",
   "name": "conda-env-clinicalAI-py"
  },
  "language_info": {
   "codemirror_mode": {
    "name": "ipython",
    "version": 3
   },
   "file_extension": ".py",
   "mimetype": "text/x-python",
   "name": "python",
   "nbconvert_exporter": "python",
   "pygments_lexer": "ipython3",
   "version": "3.10.16"
  }
 },
 "nbformat": 4,
 "nbformat_minor": 5
}
